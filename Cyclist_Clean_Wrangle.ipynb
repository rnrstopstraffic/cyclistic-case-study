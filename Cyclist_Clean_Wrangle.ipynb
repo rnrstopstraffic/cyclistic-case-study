{
 "cells": [
  {
   "cell_type": "code",
   "execution_count": 1,
   "id": "5b00bb12",
   "metadata": {},
   "outputs": [],
   "source": [
    "import pandas as pd\n",
    "import numpy as np\n",
    "from datetime import datetime as dt"
   ]
  },
  {
   "cell_type": "code",
   "execution_count": 2,
   "id": "955bc967",
   "metadata": {},
   "outputs": [],
   "source": [
    "df = pd.read_csv('ann_cyc_data.csv', low_memory = False)"
   ]
  },
  {
   "cell_type": "code",
   "execution_count": 3,
   "id": "ae79df5f",
   "metadata": {},
   "outputs": [],
   "source": [
    "# Convert started_at and ended_at columns to datetime type\n",
    "\n",
    "df['started_at'] = pd.to_datetime(df['started_at'])\n",
    "\n",
    "df['ended_at'] = pd.to_datetime(df['ended_at'])"
   ]
  },
  {
   "cell_type": "code",
   "execution_count": 4,
   "id": "e708fd20",
   "metadata": {},
   "outputs": [],
   "source": [
    "# Find and eliminate duplicate entries; the only ones were some strange copies of rides from one day\n",
    "# in November that received alternate start dates in December\n",
    "\n",
    "dupid = df.groupby('ride_id', as_index = False)['started_at'].count()\n",
    "\n",
    "dupid = dupid[dupid['started_at']>1]\n",
    "\n",
    "df = df.loc[~((df['ride_id'].isin(dupid['ride_id'])) & (df['started_at'].dt.month == 12))]\n",
    "\n",
    "df = df.reset_index()"
   ]
  },
  {
   "cell_type": "code",
   "execution_count": 5,
   "id": "02b39b7c",
   "metadata": {},
   "outputs": [],
   "source": [
    "# Extract started_at and ended_at columns into separate time and date information\n",
    "\n",
    "df['start_time'] = df['started_at'].dt.time\n",
    "\n",
    "df['end_time'] = df['ended_at'].dt.time\n",
    "\n",
    "df['day'] = df['started_at'].dt.weekday\n",
    "\n",
    "df['day_name'] = df['started_at'].dt.day_name()\n",
    "\n",
    "df['dur'] = df.apply(lambda x: x['ended_at'] - x['started_at'], axis = 1)\n",
    "df['dur'] = df['dur'].dt.total_seconds()\n",
    "\n",
    "df['month_name'] = df['started_at'].dt.month_name()\n",
    "\n",
    "df['month'] = df['started_at'].dt.month\n",
    "\n",
    "df['year'] = df['started_at'].dt.year\n",
    "\n",
    "df['start_date'] = df['started_at'].dt.date"
   ]
  },
  {
   "cell_type": "code",
   "execution_count": 6,
   "id": "fa4ebb0b",
   "metadata": {},
   "outputs": [],
   "source": [
    "# Remove any rides less than a minute (this includes some incorrect records which show a negative ride duration)\n",
    "\n",
    "df = df[df['dur'] > 60]"
   ]
  },
  {
   "cell_type": "code",
   "execution_count": 7,
   "id": "a4a11c38",
   "metadata": {},
   "outputs": [],
   "source": [
    "# Remove rides which started at HQ QR (these were for testing purposes)\n",
    "\n",
    "df = df[df['start_station_name'] != 'HQ QR']"
   ]
  },
  {
   "cell_type": "code",
   "execution_count": 8,
   "id": "ee8c3b4c",
   "metadata": {},
   "outputs": [],
   "source": [
    "df = df.sort_values(by = 'start_date')"
   ]
  },
  {
   "cell_type": "code",
   "execution_count": 9,
   "id": "05fe00af",
   "metadata": {},
   "outputs": [],
   "source": [
    "df.to_csv('ann_cyc_data_V2.csv')\n",
    "df.to_pickle('ann_cyc_data_V2.pkl')"
   ]
  }
 ],
 "metadata": {
  "kernelspec": {
   "display_name": "Python 3",
   "language": "python",
   "name": "python3"
  },
  "language_info": {
   "codemirror_mode": {
    "name": "ipython",
    "version": 3
   },
   "file_extension": ".py",
   "mimetype": "text/x-python",
   "name": "python",
   "nbconvert_exporter": "python",
   "pygments_lexer": "ipython3",
   "version": "3.8.10"
  }
 },
 "nbformat": 4,
 "nbformat_minor": 5
}
